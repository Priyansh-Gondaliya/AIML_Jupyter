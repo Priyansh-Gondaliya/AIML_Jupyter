{
 "cells": [
  {
   "cell_type": "code",
   "execution_count": 44,
   "id": "788c2e76",
   "metadata": {},
   "outputs": [],
   "source": [
    "import numpy as np\n"
   ]
  },
  {
   "cell_type": "code",
   "execution_count": 45,
   "id": "6c694e98",
   "metadata": {},
   "outputs": [],
   "source": [
    "a=np.array([[1,2],[6,7]])  #2x2 Array\n",
    "b=np.array([[11,12],[16,17]]) #2x2 array"
   ]
  },
  {
   "cell_type": "code",
   "execution_count": 46,
   "id": "b9f9e411",
   "metadata": {},
   "outputs": [
    {
     "name": "stdout",
     "output_type": "stream",
     "text": [
      "[[2]\n",
      " [7]]\n"
     ]
    }
   ],
   "source": [
    "print(a[0:2,1:2]) # Print a slice of array"
   ]
  },
  {
   "cell_type": "code",
   "execution_count": 47,
   "id": "34cb187c",
   "metadata": {},
   "outputs": [
    {
     "name": "stdout",
     "output_type": "stream",
     "text": [
      "[[1 2]\n",
      " [6 7]]\n",
      "[[11 12]\n",
      " [16 17]]\n",
      "[[ 43  46]\n",
      " [178 191]]\n"
     ]
    }
   ],
   "source": [
    "print(a)  # Print the entire array 'a'\n",
    "print(b)  # Print the entire array 'b'\n",
    "\n",
    "mul=np.dot(a,b) # Calculate the dot element of 'a' and 'b'\n",
    "print(mul) # Print the result of the dot element\n"
   ]
  },
  {
   "cell_type": "code",
   "execution_count": 48,
   "id": "96d8b786",
   "metadata": {},
   "outputs": [
    {
     "name": "stdout",
     "output_type": "stream",
     "text": [
      "[[ 11  24]\n",
      " [ 96 119]]\n"
     ]
    }
   ],
   "source": [
    "mul1=np.multiply(a,b) # multiplication of a and b\n",
    "print(mul1) # Print the result of multiplication"
   ]
  },
  {
   "cell_type": "code",
   "execution_count": 49,
   "id": "5163ed7d",
   "metadata": {},
   "outputs": [
    {
     "name": "stdout",
     "output_type": "stream",
     "text": [
      "[[12 14]\n",
      " [22 24]]\n"
     ]
    }
   ],
   "source": [
    "add1=np.add(a,b) # Calculate addition of a and b\n",
    "print(add1) # Print the result of addition"
   ]
  },
  {
   "cell_type": "code",
   "execution_count": 51,
   "id": "6eef990c",
   "metadata": {},
   "outputs": [
    {
     "name": "stdout",
     "output_type": "stream",
     "text": [
      "[[-10 -10]\n",
      " [-10 -10]]\n"
     ]
    }
   ],
   "source": [
    "sub=np.subtract(a,b)  # Calculate subtraction of 'b' from 'a'\n",
    "print(sub) # Print the result of subtraction"
   ]
  },
  {
   "cell_type": "code",
   "execution_count": 52,
   "id": "ac6d1517",
   "metadata": {},
   "outputs": [
    {
     "name": "stdout",
     "output_type": "stream",
     "text": [
      "[[0.09090909 0.16666667]\n",
      " [0.375      0.41176471]]\n"
     ]
    }
   ],
   "source": [
    "dev=np.divide(a,b) # Calculate element-wise division of 'a' by 'b'\n",
    "print(dev) # Print the result of element-wise division"
   ]
  },
  {
   "cell_type": "code",
   "execution_count": 53,
   "id": "2ba9cdad",
   "metadata": {},
   "outputs": [
    {
     "name": "stdout",
     "output_type": "stream",
     "text": [
      "[[0.66666667 0.8        0.85714286]\n",
      " [0.88888889 0.90909091 0.92307692]]\n"
     ]
    }
   ],
   "source": [
    "n1=np.array([[10,20,30],[40,50,60]]) # Create a 2x3 NumPy array named 'n1'\n",
    "n2=np.array([[15,25,35],[45,55,65]]) # Create a 2x3 NumPy array named 'n2'\n",
    "div1=np.divide(n1,n2) # Calculate element-wise division of 'n1' by 'n2'\n",
    "print(div1) # Print the result of element-wise division"
   ]
  },
  {
   "cell_type": "code",
   "execution_count": 54,
   "id": "2c27412f",
   "metadata": {},
   "outputs": [
    {
     "name": "stdout",
     "output_type": "stream",
     "text": [
      "[[ 10  20  30  40]\n",
      " [ 50  60  70  80]\n",
      " [ 90 100 110 120]\n",
      " [130 140 150 160]]\n"
     ]
    }
   ],
   "source": [
    "n3=np.array([10,20,30,40,50,60,70,80,90,100,110,120,130,140,150,160])  # Create a 1D NumPy array named 'n3'\n",
    "re=n3.reshape(4,4) # Reshape 'n3' into a 4x4 array\n",
    "print(re) # Print the reshaped array"
   ]
  },
  {
   "cell_type": "code",
   "execution_count": 55,
   "id": "169eb932",
   "metadata": {},
   "outputs": [
    {
     "name": "stdout",
     "output_type": "stream",
     "text": [
      "10\n",
      "160\n",
      "[ 40  80 120 160]\n",
      "[10 20 30 40]\n"
     ]
    }
   ],
   "source": [
    "print(n3.min()) # Print the minimum value in 'n3'\n",
    "print(n3.max())  # Print the maximum value in 'n3'\n",
    "print(re.max(axis=1)) # Print max along each row\n",
    "print(re.min(axis=0)) # Print min along each column"
   ]
  },
  {
   "cell_type": "code",
   "execution_count": 56,
   "id": "ad2a0eec",
   "metadata": {},
   "outputs": [
    {
     "name": "stdout",
     "output_type": "stream",
     "text": [
      "[[10 20 30]\n",
      " [40 50 60]]\n",
      "[[3.16227766 4.47213595 5.47722558]\n",
      " [6.32455532 7.07106781 7.74596669]]\n",
      "17.07825127659933\n"
     ]
    }
   ],
   "source": [
    "print(n1)  # Print array 'n1'\n",
    "print(np.sqrt(n1)) # Print the square root of each element in 'n1'\n",
    "print(np.std(n1)) # Print the standard deviation of 'n1'"
   ]
  },
  {
   "cell_type": "code",
   "execution_count": 57,
   "id": "47433716",
   "metadata": {},
   "outputs": [
    {
     "name": "stdout",
     "output_type": "stream",
     "text": [
      "[[10 20 30]\n",
      " [40 50 60]\n",
      " [15 25 35]\n",
      " [45 55 65]]\n",
      "[[10 20 30 15 25 35]\n",
      " [40 50 60 45 55 65]]\n"
     ]
    }
   ],
   "source": [
    "v=np.vstack((n1,n2))  # Vertically stack 'n1' and 'n2'\n",
    "print(v)  # Print the vertically stacked array\n",
    "h=np.hstack((n1,n2)) # Horizontally stack 'n1' and 'n2'\n",
    "print(h) # Print the horizontally stacked array"
   ]
  },
  {
   "cell_type": "code",
   "execution_count": 58,
   "id": "a4b9de6c",
   "metadata": {},
   "outputs": [
    {
     "name": "stdout",
     "output_type": "stream",
     "text": [
      "[ 0  3  6  9 12 15 18]\n"
     ]
    }
   ],
   "source": [
    "arr=np.arange(0,20,3) # Create an array from 0 to 20 with a step of 3\n",
    "print(arr) # Print the array"
   ]
  },
  {
   "cell_type": "code",
   "execution_count": 59,
   "id": "026cdd1f",
   "metadata": {},
   "outputs": [
    {
     "name": "stdout",
     "output_type": "stream",
     "text": [
      "[ 0.  3.  6.  9. 12. 15. 18. 21. 24. 27. 30. 33. 36. 39. 42. 45. 48.]\n",
      "float64\n"
     ]
    }
   ],
   "source": [
    "arr=np.arange(0,50,3,float) # Create an array from 0 to 50 with a step of 3, as float\n",
    "print(arr) # Print the float array\n",
    "print(arr.dtype) # Print the data type of the array"
   ]
  },
  {
   "cell_type": "code",
   "execution_count": 60,
   "id": "394d3bdb",
   "metadata": {},
   "outputs": [
    {
     "name": "stdout",
     "output_type": "stream",
     "text": [
      "[ 0. 25. 50.]\n",
      "float64\n"
     ]
    }
   ],
   "source": [
    "arr=np.linspace(0,50,3) # Create 3 evenly spaced numbers from 0 to 50\n",
    "print(arr) # Print the linearly spaced array\n",
    "print(arr.dtype) # Print the data type of array"
   ]
  },
  {
   "cell_type": "code",
   "execution_count": 61,
   "id": "893906f4",
   "metadata": {},
   "outputs": [
    {
     "name": "stdout",
     "output_type": "stream",
     "text": [
      "[[10 40]\n",
      " [20 50]\n",
      " [30 60]\n",
      " [15 45]\n",
      " [25 55]\n",
      " [35 65]]\n"
     ]
    }
   ],
   "source": [
    "hr=h.T # Transpose array 'h'\n",
    "print(hr) # Print the transposed array\n"
   ]
  },
  {
   "cell_type": "code",
   "execution_count": 62,
   "id": "9775c3ad",
   "metadata": {},
   "outputs": [
    {
     "name": "stdout",
     "output_type": "stream",
     "text": [
      "AK 10\n",
      "AK 20\n",
      "AK 30\n",
      "AK 15\n",
      "AK 25\n",
      "AK 35\n",
      "AK 40\n",
      "AK 50\n",
      "AK 60\n",
      "AK 45\n",
      "AK 55\n",
      "AK 65\n"
     ]
    }
   ],
   "source": [
    "for i in np.nditer(hr): # Iterate through each element of transposed array\n",
    "    print(\"AK\",i) # Print each element"
   ]
  },
  {
   "cell_type": "code",
   "execution_count": 63,
   "id": "c5bf4d6d",
   "metadata": {},
   "outputs": [
    {
     "name": "stdout",
     "output_type": "stream",
     "text": [
      "[[2.20264658e+04 4.85165195e+08 1.06864746e+13]\n",
      " [2.35385267e+17 5.18470553e+21 1.14200739e+26]]\n"
     ]
    }
   ],
   "source": [
    "print(np.exp(n1)) # Calculate and print element-wise exponential of n1"
   ]
  },
  {
   "cell_type": "code",
   "execution_count": 64,
   "id": "677504dc",
   "metadata": {},
   "outputs": [
    {
     "name": "stdout",
     "output_type": "stream",
     "text": [
      "[[-0.54402111  0.91294525 -0.98803162]\n",
      " [ 0.74511316 -0.26237485 -0.30481062]]\n"
     ]
    }
   ],
   "source": [
    "print(np.sin(n1)) # Calculate and print element-wise sine of n1"
   ]
  },
  {
   "cell_type": "code",
   "execution_count": 65,
   "id": "cc0b9a14",
   "metadata": {},
   "outputs": [
    {
     "name": "stdout",
     "output_type": "stream",
     "text": [
      "[[-0.83907153  0.40808206  0.15425145]\n",
      " [-0.66693806  0.96496603 -0.95241298]]\n"
     ]
    }
   ],
   "source": [
    "print(np.cos(n1)) # Calculate and print element-wise cosine of n1"
   ]
  },
  {
   "cell_type": "code",
   "execution_count": 66,
   "id": "654140e0",
   "metadata": {},
   "outputs": [
    {
     "name": "stdout",
     "output_type": "stream",
     "text": [
      "[[2.30258509 2.99573227 3.40119738]\n",
      " [3.68887945 3.91202301 4.09434456]]\n"
     ]
    }
   ],
   "source": [
    "print(np.log(n1)) # Calculate and print element-wise natural log of n1"
   ]
  },
  {
   "cell_type": "code",
   "execution_count": 67,
   "id": "ba7e70c3",
   "metadata": {},
   "outputs": [
    {
     "name": "stdout",
     "output_type": "stream",
     "text": [
      "210\n"
     ]
    }
   ],
   "source": [
    "print(np.sum(n1))  # Print sum of all elements in n1"
   ]
  },
  {
   "cell_type": "code",
   "execution_count": 68,
   "id": "abdf8c72",
   "metadata": {},
   "outputs": [
    {
     "name": "stdout",
     "output_type": "stream",
     "text": [
      "17.07825127659933\n"
     ]
    }
   ],
   "source": [
    "print(np.std(n1)) # Print standard deviation of n1"
   ]
  },
  {
   "cell_type": "code",
   "execution_count": 69,
   "id": "5d81b400",
   "metadata": {},
   "outputs": [
    {
     "name": "stdout",
     "output_type": "stream",
     "text": [
      "mean 35.0\n"
     ]
    }
   ],
   "source": [
    "from scipy import stats as st # Import stats module from scipy library\n",
    "print('mean',np.mean(n1)) # Print the mean of n1"
   ]
  },
  {
   "cell_type": "code",
   "execution_count": 70,
   "id": "a683ba37",
   "metadata": {},
   "outputs": [
    {
     "name": "stdout",
     "output_type": "stream",
     "text": [
      "Median 35.0\n"
     ]
    }
   ],
   "source": [
    "print('Median',np.median(n1)) # Print the median of n1"
   ]
  },
  {
   "cell_type": "code",
   "execution_count": 71,
   "id": "ffd5aca6",
   "metadata": {},
   "outputs": [
    {
     "name": "stdout",
     "output_type": "stream",
     "text": [
      "Mode ModeResult(mode=array([[10, 20, 30]]), count=array([[1, 1, 1]]))\n"
     ]
    }
   ],
   "source": [
    "print('Mode',st.mode(n1)) # Print the mode of n1 using scipy.stats"
   ]
  },
  {
   "cell_type": "code",
   "execution_count": 75,
   "id": "fbe99cb3",
   "metadata": {},
   "outputs": [
    {
     "name": "stdout",
     "output_type": "stream",
     "text": [
      "(2, 3)\n"
     ]
    }
   ],
   "source": [
    "n3=np.array([[1,2,3],[4,5,6]])\n",
    "print(format(n3.shape))"
   ]
  }
 ],
 "metadata": {
  "kernelspec": {
   "display_name": "Python 3 (ipykernel)",
   "language": "python",
   "name": "python3"
  },
  "language_info": {
   "codemirror_mode": {
    "name": "ipython",
    "version": 3
   },
   "file_extension": ".py",
   "mimetype": "text/x-python",
   "name": "python",
   "nbconvert_exporter": "python",
   "pygments_lexer": "ipython3",
   "version": "3.9.12"
  }
 },
 "nbformat": 4,
 "nbformat_minor": 5
}
